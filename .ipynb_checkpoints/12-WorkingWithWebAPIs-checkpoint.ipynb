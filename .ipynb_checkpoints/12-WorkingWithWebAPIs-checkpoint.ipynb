{
 "cells": [
  {
   "cell_type": "markdown",
   "metadata": {},
   "source": [
    "# Working with Web APIs\n",
    "Prof. Dr. Mike Espig, WHZ – University of Applied Sciences Zwickau\n",
    "\n",
    "In this lesson we will consolidate the basic material from the lecture by practical exercises.\n",
    "\n",
    "We'll learn about the following topics:\n",
    "    \n",
    "    1.) The Kraken Web API and Practicum    "
   ]
  },
  {
   "cell_type": "markdown",
   "metadata": {},
   "source": [
    "## The Kraken Web API and Practicum"
   ]
  },
  {
   "cell_type": "markdown",
   "metadata": {},
   "source": [
    "[Kraken](https://www.kraken.com/) is a US-based cryptocurrency exchange, founded in 2011. The San Francisco-based exchange offers bitcoin, Ether and other cryptocurrencies with several fiat currencies including US dollars, Canadian dollars, British pounds, euros, and the Japanese yen, i.e. the exchange provides cryptocurrency to fiat trading. In February 2014, Kraken was ranked as the number one exchange by volume in trading between bitcoin and euros.\n",
    "\n",
    "We will use the [Kraken web application programming interface (API)](https://www.kraken.com/features/api) as an example of web APIs."
   ]
  },
  {
   "cell_type": "markdown",
   "metadata": {},
   "source": [
    "### JavaScript Object Notation (JSON)\n",
    "\n",
    "<p><b>JSON</b> (JavaScript Object Notation) is a lightweight data-interchange\n",
    "  format. It is easy for humans to read and write. It is easy for machines to\n",
    "  parse and generate. It is based on a subset of the\n",
    "  <a href=\"https://www.ecma-international.org/publications/files/ECMA-ST/Ecma-262.pdf\">JavaScript\n",
    "  Programming Language Standard\n",
    "  ECMA-262 2018</a>. JSON is a text format that is completely\n",
    "  language independent but uses conventions that are familiar to programmers of\n",
    "  the C-family of languages, including C, C++, C#, Java, JavaScript, Perl, Python,\n",
    "  and many others. These properties make JSON an ideal data-interchange language.</p>\n",
    "  \n",
    "  \n",
    "  \n",
    "<h2>JSON example</h2><p>Here’s an example of data encoded in JSON:</p><pre class=\"prettyprint\">{<br/>  “firstName”: “Jonathan”,<br/>  “lastName”: “Freeman”,<br/>  “loginCount”: 4,<br/>  “isWriter”: true,<br/>  “worksWith”: [“Spantree Technology Group”, “InfoWorld”],<br/>  “pets”: [<br/>    {<br/>      “name”: “Lilly”,<br/>      “type”: “Raccoon”<br/>    }<br/>  ]<br/>}</pre><p>The structure above clearly defines some attributes of a person. It includes a first and last name, the number of times the person has logged in, whether this person is a writer, a list of companies the person works with, and a list of the person’s pets (only one, in this case). A structure like the one above may be passed from a server to a web browser or a mobile application, which will then perform some action such as displaying the data or saving it for later reference.</p><aside class=\"nativo-promo nativo-promo-1 smartphone\" id=\"\"> </aside><p>JSON is a generic data format with a minimal number of value types: strings, numbers, booleans, lists, objects, and null. Although the notation is a subset of JavaScript, these types are represented in all common programming languages, making JSON a good candidate to transmit data across language gaps.</p>  "
   ]
  },
  {
   "cell_type": "markdown",
   "metadata": {},
   "source": [
    "### The order book of a cryptocurrency\n",
    "\n",
    "An order book is the list of orders (manual or electronic) that a trading venue (in particular cryptocurrency exchanges) uses to record the interest of buyers and sellers in a particular financial instrument. A matching engine uses the book to determine which orders can be fully or partially executed.\n",
    "\n",
    "\n",
    "<img src=\"images/BidsAsks.png\" width=40%>\n"
   ]
  },
  {
   "cell_type": "code",
   "execution_count": 1,
   "metadata": {},
   "outputs": [],
   "source": [
    "import pandas as pd\n",
    "import numpy as np\n",
    "\n",
    "import requests\n",
    "import datetime\n",
    "import time\n"
   ]
  },
  {
   "cell_type": "markdown",
   "metadata": {},
   "source": [
    "<h3 id=\"get-order-book\">Get order book</h3>\n",
    "<p>URL: https://api.kraken.com/0/public/Depth</p>\n",
    "<p>Input:</p>\n",
    "<pre>\n",
    "pair = asset pair to get market depth for\n",
    "count = maximum number of asks/bids (optional)\n",
    "</pre>\n",
    "<p>Result: array of pair name and market depth</p>\n",
    "<pre>\n",
    "&lt;pair_name&gt; = pair name\n",
    "    asks = ask side array of array entries(&lt;price&gt;, &lt;volume&gt;, &lt;timestamp&gt;)\n",
    "    bids = bid side array of array entries(&lt;price&gt;, &lt;volume&gt;, &lt;timestamp&gt;)\n",
    "</pre>\n",
    "\n",
    "https://api.kraken.com/0/public/Depth?pair=ETHUSD&count=5"
   ]
  },
  {
   "cell_type": "markdown",
   "metadata": {},
   "source": [
    "#### Create the API call"
   ]
  },
  {
   "cell_type": "code",
   "execution_count": 11,
   "metadata": {},
   "outputs": [
    {
     "data": {
      "text/plain": [
       "'https://api.kraken.com/0/public/Depth?pair=XBTUSD&count=5'"
      ]
     },
     "execution_count": 11,
     "metadata": {},
     "output_type": "execute_result"
    }
   ],
   "source": [
    "symbol            = 'XBT'\n",
    "comparison_symbol = 'USD'\n",
    "count             = 5\n",
    "\n",
    "market  = symbol + comparison_symbol\n",
    "url     ='https://api.kraken.com/0/public/Depth?pair={}&count={}'.format(market.upper(), count)\n",
    "url"
   ]
  },
  {
   "cell_type": "markdown",
   "metadata": {},
   "source": [
    "#### Get the JSON string"
   ]
  },
  {
   "cell_type": "code",
   "execution_count": 13,
   "metadata": {},
   "outputs": [
    {
     "data": {
      "text/plain": [
       "{'error': [],\n",
       " 'result': {'XXBTZUSD': {'asks': [['8509.10000', '5.552', 1578991686],\n",
       "    ['8509.30000', '6.835', 1578991686],\n",
       "    ['8509.60000', '0.894', 1578991686],\n",
       "    ['8509.70000', '3.475', 1578991686],\n",
       "    ['8510.10000', '0.040', 1578991687]],\n",
       "   'bids': [['8509.00000', '0.534', 1578991678],\n",
       "    ['8505.10000', '0.256', 1578991679],\n",
       "    ['8504.90000', '0.256', 1578991673],\n",
       "    ['8504.10000', '0.100', 1578991686],\n",
       "    ['8503.90000', '0.100', 1578991687]]}}}"
      ]
     },
     "execution_count": 13,
     "metadata": {},
     "output_type": "execute_result"
    }
   ],
   "source": [
    "page = requests.get(url)\n",
    "jString = page.json()\n",
    "jString"
   ]
  },
  {
   "cell_type": "markdown",
   "metadata": {},
   "source": [
    "#### Get the results"
   ]
  },
  {
   "cell_type": "code",
   "execution_count": 14,
   "metadata": {},
   "outputs": [
    {
     "data": {
      "text/plain": [
       "'XXBTZUSD'"
      ]
     },
     "execution_count": 14,
     "metadata": {},
     "output_type": "execute_result"
    }
   ],
   "source": [
    "marketS = 'X{}Z{}'.format(symbol.upper(), comparison_symbol.upper())\n",
    "marketS"
   ]
  },
  {
   "cell_type": "code",
   "execution_count": 15,
   "metadata": {},
   "outputs": [
    {
     "data": {
      "text/plain": [
       "[['8509.10000', '5.552', 1578991686],\n",
       " ['8509.30000', '6.835', 1578991686],\n",
       " ['8509.60000', '0.894', 1578991686],\n",
       " ['8509.70000', '3.475', 1578991686],\n",
       " ['8510.10000', '0.040', 1578991687]]"
      ]
     },
     "execution_count": 15,
     "metadata": {},
     "output_type": "execute_result"
    }
   ],
   "source": [
    "asks = jString[\"result\"][marketS][\"asks\"]\n",
    "asks"
   ]
  },
  {
   "cell_type": "code",
   "execution_count": null,
   "metadata": {},
   "outputs": [],
   "source": []
  },
  {
   "cell_type": "code",
   "execution_count": 17,
   "metadata": {},
   "outputs": [
    {
     "data": {
      "text/plain": [
       "[['8509.00000', '0.534', 1578991678],\n",
       " ['8505.10000', '0.256', 1578991679],\n",
       " ['8504.90000', '0.256', 1578991673],\n",
       " ['8504.10000', '0.100', 1578991686],\n",
       " ['8503.90000', '0.100', 1578991687]]"
      ]
     },
     "execution_count": 17,
     "metadata": {},
     "output_type": "execute_result"
    }
   ],
   "source": [
    "bids= jString[\"result\"][marketS][\"bids\"]\n",
    "bids"
   ]
  },
  {
   "cell_type": "markdown",
   "metadata": {},
   "source": [
    "#### Unix Time\n",
    "[Unix time](https://timestamp.online/) (also known as POSIX time or Epoch time) is a system for describing instants in time, defined as the number of seconds that have elapsed since 00:00:00 Coordinated Universal Time (UTC), Thursday, 1 January 1970, not counting leap seconds. It is used widely in Unix-like and many other operating systems and file formats. Because it does not handle leap seconds, it is neither a linear representation of time nor a true representation of UTC."
   ]
  },
  {
   "cell_type": "code",
   "execution_count": 18,
   "metadata": {},
   "outputs": [
    {
     "name": "stdout",
     "output_type": "stream",
     "text": [
      "Asks\n",
      "         price  volume           timestamp\n",
      "0  8509.099609   5.552 2020-01-14 09:49:04\n",
      "1  8509.299805   6.835 2020-01-14 09:49:04\n",
      "2  8509.599609   0.894 2020-01-14 09:49:04\n",
      "3  8509.700195   3.475 2020-01-14 09:49:04\n",
      "4  8510.099609   0.040 2020-01-14 09:49:04\n",
      "\n",
      "\n",
      "Bids\n",
      "         price  volume           timestamp\n",
      "0  8509.000000   0.534 2020-01-14 09:46:56\n",
      "1  8505.099609   0.256 2020-01-14 09:46:56\n",
      "2  8504.900391   0.256 2020-01-14 09:46:56\n",
      "3  8504.099609   0.100 2020-01-14 09:49:04\n",
      "4  8503.900391   0.100 2020-01-14 09:49:04\n"
     ]
    }
   ],
   "source": [
    "\n",
    "dataAsks = pd.DataFrame(asks, columns=['price', 'volume', 'timestamp'], dtype='float32')\n",
    "dataBids = pd.DataFrame(bids, columns=['price', 'volume', 'timestamp'], dtype='float32')\n",
    "\n",
    "dataAsks['timestamp'] = [datetime.datetime.fromtimestamp(d) for d in dataAsks.timestamp]\n",
    "dataBids['timestamp'] = [datetime.datetime.fromtimestamp(d) for d in dataBids.timestamp]\n",
    "\n",
    "print('Asks')\n",
    "print(dataAsks)\n",
    "print('\\n')\n",
    "print('Bids')\n",
    "print(dataBids)"
   ]
  },
  {
   "cell_type": "markdown",
   "metadata": {},
   "source": [
    "<font color=green>**Problem 1: Write a function order_book_of(symbol='ETH', comparison_symbol='USD', count=7) that gives the two DataFrames of the order book from the desired cryptocurrency.**</font> "
   ]
  },
  {
   "cell_type": "code",
   "execution_count": 52,
   "metadata": {},
   "outputs": [],
   "source": [
    "def order_book_of(symbol='ETH', comparison_symbol='USD', count=7):\n",
    "    '''Returns asks and bids as dataframes'''\n",
    "    market = symbol + comparison_symbol\n",
    "    url ='https://api.kraken.com/0/public/Depth?pair={}&count={}'.format(market.upper(), count)\n",
    "    marketS = 'X{}Z{}'.format(symbol.upper(), comparison_symbol.upper())\n",
    "\n",
    "    page = requests.get(url)\n",
    "    jString = page.json()\n",
    "    asks = jString[\"result\"][marketS][\"asks\"]\n",
    "    bids= jString[\"result\"][marketS][\"bids\"]\n",
    "    \n",
    "    dataAsks = pd.DataFrame(asks, columns=['price', 'volume', 'timestamp'], dtype='float32')\n",
    "    dataBids = pd.DataFrame(bids, columns=['price', 'volume', 'timestamp'], dtype='float32')\n",
    "    \n",
    "    dataAsks['timestamp'] = pd.to_datetime(dataAsks.timestamp) #[datetime.datetime.fromtimestamp(d) for d in dataAsks.timestamp]\n",
    "    dataBids['timestamp'] = [datetime.datetime.fromtimestamp(d) for d in dataBids.timestamp]\n",
    "    \n",
    "    return dataAsks, dataBids"
   ]
  },
  {
   "cell_type": "code",
   "execution_count": 53,
   "metadata": {},
   "outputs": [
    {
     "data": {
      "text/html": [
       "<div>\n",
       "<style scoped>\n",
       "    .dataframe tbody tr th:only-of-type {\n",
       "        vertical-align: middle;\n",
       "    }\n",
       "\n",
       "    .dataframe tbody tr th {\n",
       "        vertical-align: top;\n",
       "    }\n",
       "\n",
       "    .dataframe thead th {\n",
       "        text-align: right;\n",
       "    }\n",
       "</style>\n",
       "<table border=\"1\" class=\"dataframe\">\n",
       "  <thead>\n",
       "    <tr style=\"text-align: right;\">\n",
       "      <th></th>\n",
       "      <th>price</th>\n",
       "      <th>volume</th>\n",
       "      <th>timestamp</th>\n",
       "    </tr>\n",
       "  </thead>\n",
       "  <tbody>\n",
       "    <tr>\n",
       "      <th>0</th>\n",
       "      <td>151.029999</td>\n",
       "      <td>10.000000</td>\n",
       "      <td>1970-01-01 00:00:01.578994432+00:00</td>\n",
       "    </tr>\n",
       "    <tr>\n",
       "      <th>1</th>\n",
       "      <td>151.039993</td>\n",
       "      <td>332.308990</td>\n",
       "      <td>1970-01-01 00:00:01.578994432+00:00</td>\n",
       "    </tr>\n",
       "    <tr>\n",
       "      <th>2</th>\n",
       "      <td>151.050003</td>\n",
       "      <td>41.546001</td>\n",
       "      <td>1970-01-01 00:00:01.578994432+00:00</td>\n",
       "    </tr>\n",
       "    <tr>\n",
       "      <th>3</th>\n",
       "      <td>151.059998</td>\n",
       "      <td>7.525000</td>\n",
       "      <td>1970-01-01 00:00:01.578994432+00:00</td>\n",
       "    </tr>\n",
       "    <tr>\n",
       "      <th>4</th>\n",
       "      <td>151.070007</td>\n",
       "      <td>10.000000</td>\n",
       "      <td>1970-01-01 00:00:01.578994432+00:00</td>\n",
       "    </tr>\n",
       "    <tr>\n",
       "      <th>5</th>\n",
       "      <td>151.119995</td>\n",
       "      <td>53.881001</td>\n",
       "      <td>1970-01-01 00:00:01.578994432+00:00</td>\n",
       "    </tr>\n",
       "    <tr>\n",
       "      <th>6</th>\n",
       "      <td>151.130005</td>\n",
       "      <td>23.186001</td>\n",
       "      <td>1970-01-01 00:00:01.578994432+00:00</td>\n",
       "    </tr>\n",
       "  </tbody>\n",
       "</table>\n",
       "</div>"
      ],
      "text/plain": [
       "        price      volume                           timestamp\n",
       "0  151.029999   10.000000 1970-01-01 00:00:01.578994432+00:00\n",
       "1  151.039993  332.308990 1970-01-01 00:00:01.578994432+00:00\n",
       "2  151.050003   41.546001 1970-01-01 00:00:01.578994432+00:00\n",
       "3  151.059998    7.525000 1970-01-01 00:00:01.578994432+00:00\n",
       "4  151.070007   10.000000 1970-01-01 00:00:01.578994432+00:00\n",
       "5  151.119995   53.881001 1970-01-01 00:00:01.578994432+00:00\n",
       "6  151.130005   23.186001 1970-01-01 00:00:01.578994432+00:00"
      ]
     },
     "execution_count": 53,
     "metadata": {},
     "output_type": "execute_result"
    }
   ],
   "source": [
    "a,b = order_book_of()\n",
    "a"
   ]
  },
  {
   "cell_type": "code",
   "execution_count": 45,
   "metadata": {},
   "outputs": [
    {
     "data": {
      "text/html": [
       "<div>\n",
       "<style scoped>\n",
       "    .dataframe tbody tr th:only-of-type {\n",
       "        vertical-align: middle;\n",
       "    }\n",
       "\n",
       "    .dataframe tbody tr th {\n",
       "        vertical-align: top;\n",
       "    }\n",
       "\n",
       "    .dataframe thead th {\n",
       "        text-align: right;\n",
       "    }\n",
       "</style>\n",
       "<table border=\"1\" class=\"dataframe\">\n",
       "  <thead>\n",
       "    <tr style=\"text-align: right;\">\n",
       "      <th></th>\n",
       "      <th>price</th>\n",
       "      <th>volume</th>\n",
       "      <th>timestamp</th>\n",
       "    </tr>\n",
       "  </thead>\n",
       "  <tbody>\n",
       "    <tr>\n",
       "      <th>0</th>\n",
       "      <td>150.990005</td>\n",
       "      <td>13.555000</td>\n",
       "      <td>2020-01-14 10:29:36</td>\n",
       "    </tr>\n",
       "    <tr>\n",
       "      <th>1</th>\n",
       "      <td>150.979996</td>\n",
       "      <td>31.525000</td>\n",
       "      <td>2020-01-14 10:29:36</td>\n",
       "    </tr>\n",
       "    <tr>\n",
       "      <th>2</th>\n",
       "      <td>150.970001</td>\n",
       "      <td>5.500000</td>\n",
       "      <td>2020-01-14 10:29:36</td>\n",
       "    </tr>\n",
       "    <tr>\n",
       "      <th>3</th>\n",
       "      <td>150.949997</td>\n",
       "      <td>10.000000</td>\n",
       "      <td>2020-01-14 10:29:36</td>\n",
       "    </tr>\n",
       "    <tr>\n",
       "      <th>4</th>\n",
       "      <td>150.940002</td>\n",
       "      <td>384.459015</td>\n",
       "      <td>2020-01-14 10:29:36</td>\n",
       "    </tr>\n",
       "    <tr>\n",
       "      <th>5</th>\n",
       "      <td>150.929993</td>\n",
       "      <td>0.851000</td>\n",
       "      <td>2020-01-14 10:29:36</td>\n",
       "    </tr>\n",
       "    <tr>\n",
       "      <th>6</th>\n",
       "      <td>150.919998</td>\n",
       "      <td>8.335000</td>\n",
       "      <td>2020-01-14 10:29:36</td>\n",
       "    </tr>\n",
       "  </tbody>\n",
       "</table>\n",
       "</div>"
      ],
      "text/plain": [
       "        price      volume           timestamp\n",
       "0  150.990005   13.555000 2020-01-14 10:29:36\n",
       "1  150.979996   31.525000 2020-01-14 10:29:36\n",
       "2  150.970001    5.500000 2020-01-14 10:29:36\n",
       "3  150.949997   10.000000 2020-01-14 10:29:36\n",
       "4  150.940002  384.459015 2020-01-14 10:29:36\n",
       "5  150.929993    0.851000 2020-01-14 10:29:36\n",
       "6  150.919998    8.335000 2020-01-14 10:29:36"
      ]
     },
     "execution_count": 45,
     "metadata": {},
     "output_type": "execute_result"
    }
   ],
   "source": [
    "b"
   ]
  },
  {
   "cell_type": "markdown",
   "metadata": {},
   "source": [
    "#### Open-high-low-close chart\n",
    "\n",
    "An open-high-low-close chart (also OHLC) is a type of chart typically used to illustrate movements in the price of a financial instrument over time. Each vertical line on the chart shows the price range (the highest and lowest prices) over one unit of time, e.g., one day or one hour. Tick marks project from each side of the line indicating the opening price (e.g., for a daily bar chart this would be the starting price for that day) on the left, and the closing price for that time period on the right. The bars may be shown in different hues depending on whether prices rose or fell in that period.\n",
    "\n",
    "\n",
    "\n",
    "<h3 id=\"get-ohlc-data\">Get OHLC data</h3>\n",
    "<p>URL: https://api.kraken.com/0/public/OHLC</p>\n",
    "<p>Input:</p>\n",
    "<pre>\n",
    "pair = asset pair to get OHLC data for\n",
    "interval = time frame interval in minutes (optional):\n",
    "\t1 (default), 5, 15, 30, 60, 240, 1440, 10080, 21600\n",
    "since = return committed OHLC data since given id (optional.  exclusive)\n",
    "</pre>\n",
    "<p>Result: array of pair name and OHLC data</p>\n",
    "<pre>\n",
    "&lt;pair_name&gt; = pair name\n",
    "    array of array entries(&lt;time&gt;, &lt;open&gt;, &lt;high&gt;, &lt;low&gt;, &lt;close&gt;, &lt;vwap&gt;, &lt;volume&gt;, &lt;count&gt;)\n",
    "last = id to be used as since when polling for new, committed OHLC data\n",
    "</pre>\n",
    "<p>Note: the last entry in the OHLC array is for the current, not-yet-committed frame and will always be present, regardless of the value of &quot;since&quot;.</p>\n",
    "\n",
    "https://api.kraken.com/0/public/OHLC?pair=ETHUSD&interval=60&since=None"
   ]
  },
  {
   "cell_type": "code",
   "execution_count": 8,
   "metadata": {},
   "outputs": [],
   "source": [
    "symbol            = 'ETH'\n",
    "comparison_symbol = 'USD'\n",
    "interval          = 60 \n",
    "since             = None\n"
   ]
  },
  {
   "cell_type": "code",
   "execution_count": 9,
   "metadata": {},
   "outputs": [
    {
     "data": {
      "text/html": [
       "<div>\n",
       "<style scoped>\n",
       "    .dataframe tbody tr th:only-of-type {\n",
       "        vertical-align: middle;\n",
       "    }\n",
       "\n",
       "    .dataframe tbody tr th {\n",
       "        vertical-align: top;\n",
       "    }\n",
       "\n",
       "    .dataframe thead th {\n",
       "        text-align: right;\n",
       "    }\n",
       "</style>\n",
       "<table border=\"1\" class=\"dataframe\">\n",
       "  <thead>\n",
       "    <tr style=\"text-align: right;\">\n",
       "      <th></th>\n",
       "      <th>time</th>\n",
       "      <th>open</th>\n",
       "      <th>high</th>\n",
       "      <th>low</th>\n",
       "      <th>close</th>\n",
       "      <th>vwap</th>\n",
       "      <th>volume</th>\n",
       "      <th>count</th>\n",
       "    </tr>\n",
       "  </thead>\n",
       "  <tbody>\n",
       "    <tr>\n",
       "      <th>0</th>\n",
       "      <td>2019-12-15 09:59:44</td>\n",
       "      <td>143.410004</td>\n",
       "      <td>143.470001</td>\n",
       "      <td>142.820007</td>\n",
       "      <td>142.940002</td>\n",
       "      <td>143.160004</td>\n",
       "      <td>90.344322</td>\n",
       "      <td>34.0</td>\n",
       "    </tr>\n",
       "    <tr>\n",
       "      <th>1</th>\n",
       "      <td>2019-12-15 10:59:28</td>\n",
       "      <td>143.080002</td>\n",
       "      <td>143.149994</td>\n",
       "      <td>142.289993</td>\n",
       "      <td>142.369995</td>\n",
       "      <td>142.690002</td>\n",
       "      <td>170.540176</td>\n",
       "      <td>142.0</td>\n",
       "    </tr>\n",
       "    <tr>\n",
       "      <th>2</th>\n",
       "      <td>2019-12-15 11:59:12</td>\n",
       "      <td>142.380005</td>\n",
       "      <td>142.770004</td>\n",
       "      <td>142.360001</td>\n",
       "      <td>142.770004</td>\n",
       "      <td>142.570007</td>\n",
       "      <td>126.873497</td>\n",
       "      <td>77.0</td>\n",
       "    </tr>\n",
       "    <tr>\n",
       "      <th>3</th>\n",
       "      <td>2019-12-15 12:58:56</td>\n",
       "      <td>142.750000</td>\n",
       "      <td>142.960007</td>\n",
       "      <td>141.839996</td>\n",
       "      <td>141.949997</td>\n",
       "      <td>142.309998</td>\n",
       "      <td>572.049438</td>\n",
       "      <td>110.0</td>\n",
       "    </tr>\n",
       "    <tr>\n",
       "      <th>4</th>\n",
       "      <td>2019-12-15 14:00:48</td>\n",
       "      <td>141.919998</td>\n",
       "      <td>142.380005</td>\n",
       "      <td>141.919998</td>\n",
       "      <td>142.259995</td>\n",
       "      <td>142.179993</td>\n",
       "      <td>911.547302</td>\n",
       "      <td>67.0</td>\n",
       "    </tr>\n",
       "    <tr>\n",
       "      <th>...</th>\n",
       "      <td>...</td>\n",
       "      <td>...</td>\n",
       "      <td>...</td>\n",
       "      <td>...</td>\n",
       "      <td>...</td>\n",
       "      <td>...</td>\n",
       "      <td>...</td>\n",
       "      <td>...</td>\n",
       "    </tr>\n",
       "    <tr>\n",
       "      <th>715</th>\n",
       "      <td>2020-01-14 05:01:04</td>\n",
       "      <td>148.979996</td>\n",
       "      <td>150.979996</td>\n",
       "      <td>148.979996</td>\n",
       "      <td>149.179993</td>\n",
       "      <td>149.850006</td>\n",
       "      <td>4078.201904</td>\n",
       "      <td>533.0</td>\n",
       "    </tr>\n",
       "    <tr>\n",
       "      <th>716</th>\n",
       "      <td>2020-01-14 06:00:48</td>\n",
       "      <td>149.179993</td>\n",
       "      <td>149.399994</td>\n",
       "      <td>148.160004</td>\n",
       "      <td>148.160004</td>\n",
       "      <td>148.860001</td>\n",
       "      <td>1660.305054</td>\n",
       "      <td>247.0</td>\n",
       "    </tr>\n",
       "    <tr>\n",
       "      <th>717</th>\n",
       "      <td>2020-01-14 07:00:32</td>\n",
       "      <td>148.520004</td>\n",
       "      <td>149.039993</td>\n",
       "      <td>148.020004</td>\n",
       "      <td>148.929993</td>\n",
       "      <td>148.649994</td>\n",
       "      <td>1562.935425</td>\n",
       "      <td>175.0</td>\n",
       "    </tr>\n",
       "    <tr>\n",
       "      <th>718</th>\n",
       "      <td>2020-01-14 08:00:16</td>\n",
       "      <td>148.929993</td>\n",
       "      <td>149.490005</td>\n",
       "      <td>148.820007</td>\n",
       "      <td>149.179993</td>\n",
       "      <td>148.929993</td>\n",
       "      <td>1782.238892</td>\n",
       "      <td>131.0</td>\n",
       "    </tr>\n",
       "    <tr>\n",
       "      <th>719</th>\n",
       "      <td>2020-01-14 09:00:00</td>\n",
       "      <td>149.089996</td>\n",
       "      <td>149.550003</td>\n",
       "      <td>149.070007</td>\n",
       "      <td>149.380005</td>\n",
       "      <td>149.309998</td>\n",
       "      <td>540.822449</td>\n",
       "      <td>124.0</td>\n",
       "    </tr>\n",
       "  </tbody>\n",
       "</table>\n",
       "<p>720 rows × 8 columns</p>\n",
       "</div>"
      ],
      "text/plain": [
       "                   time        open        high         low       close  \\\n",
       "0   2019-12-15 09:59:44  143.410004  143.470001  142.820007  142.940002   \n",
       "1   2019-12-15 10:59:28  143.080002  143.149994  142.289993  142.369995   \n",
       "2   2019-12-15 11:59:12  142.380005  142.770004  142.360001  142.770004   \n",
       "3   2019-12-15 12:58:56  142.750000  142.960007  141.839996  141.949997   \n",
       "4   2019-12-15 14:00:48  141.919998  142.380005  141.919998  142.259995   \n",
       "..                  ...         ...         ...         ...         ...   \n",
       "715 2020-01-14 05:01:04  148.979996  150.979996  148.979996  149.179993   \n",
       "716 2020-01-14 06:00:48  149.179993  149.399994  148.160004  148.160004   \n",
       "717 2020-01-14 07:00:32  148.520004  149.039993  148.020004  148.929993   \n",
       "718 2020-01-14 08:00:16  148.929993  149.490005  148.820007  149.179993   \n",
       "719 2020-01-14 09:00:00  149.089996  149.550003  149.070007  149.380005   \n",
       "\n",
       "           vwap       volume  count  \n",
       "0    143.160004    90.344322   34.0  \n",
       "1    142.690002   170.540176  142.0  \n",
       "2    142.570007   126.873497   77.0  \n",
       "3    142.309998   572.049438  110.0  \n",
       "4    142.179993   911.547302   67.0  \n",
       "..          ...          ...    ...  \n",
       "715  149.850006  4078.201904  533.0  \n",
       "716  148.860001  1660.305054  247.0  \n",
       "717  148.649994  1562.935425  175.0  \n",
       "718  148.929993  1782.238892  131.0  \n",
       "719  149.309998   540.822449  124.0  \n",
       "\n",
       "[720 rows x 8 columns]"
      ]
     },
     "execution_count": 9,
     "metadata": {},
     "output_type": "execute_result"
    }
   ],
   "source": [
    "market  = symbol + comparison_symbol\n",
    "marketS = 'X{}Z{}'.format(symbol.upper(), comparison_symbol.upper())\n",
    "\n",
    "url  ='https://api.kraken.com/0/public/OHLC?pair={}&interval={}&since={}'.format(market.upper(), interval, since)\n",
    "page = requests.get(url)\n",
    "jString = page.json()\n",
    "\n",
    "data = pd.DataFrame(jString[\"result\"][marketS], columns=['time', 'open', 'high', 'low', 'close', 'vwap', 'volume', 'count'], dtype='float32')\n",
    "\n",
    "data['time'] = [datetime.datetime.fromtimestamp(d) for d in data.time]\n",
    "\n",
    "data"
   ]
  },
  {
   "cell_type": "markdown",
   "metadata": {},
   "source": [
    "<font color=green>**Problem 2: Write a function ohcl_data_of(symbol='ETH', comparison_symbol='USD', interval=60, since=None) that gives a DataFrame of the OHCL data from the desired cryptocurrency and set the index to time.**</font> "
   ]
  },
  {
   "cell_type": "code",
   "execution_count": 59,
   "metadata": {},
   "outputs": [],
   "source": [
    "def ohlc_data_of(symbol='ETH', comparison_symbol='USD', interval=60, since=None):\n",
    "market = symbol + comparison_symbol\n",
    "url  ='https://api.kraken.com/0/public/OHLC?pair={}&interval={}&since={}'.format(market.upper(), interval, since)\n",
    "marketS = 'X{}Z{}'.format(symbol.upper(), comparison_symbol.upper())\n",
    "\n",
    "jsonFile = requests.get(url).json()\n",
    "data = pd.DataFrame(jsonFile[\"result\"][marketS], columns=['time', 'open', 'high', 'low', 'close', 'vwap', 'volume', 'count'], dtype='float32')\n",
    "data['time'] = [datetime.datetime.fromtimestamp(d) for d in data.time]\n",
    "data.set_index('time', inplace=True)\n",
    "\n",
    "return data\n",
    "#     pd.to_datetime()"
   ]
  },
  {
   "cell_type": "code",
   "execution_count": 60,
   "metadata": {},
   "outputs": [
    {
     "data": {
      "text/html": [
       "<div>\n",
       "<style scoped>\n",
       "    .dataframe tbody tr th:only-of-type {\n",
       "        vertical-align: middle;\n",
       "    }\n",
       "\n",
       "    .dataframe tbody tr th {\n",
       "        vertical-align: top;\n",
       "    }\n",
       "\n",
       "    .dataframe thead th {\n",
       "        text-align: right;\n",
       "    }\n",
       "</style>\n",
       "<table border=\"1\" class=\"dataframe\">\n",
       "  <thead>\n",
       "    <tr style=\"text-align: right;\">\n",
       "      <th></th>\n",
       "      <th>open</th>\n",
       "      <th>high</th>\n",
       "      <th>low</th>\n",
       "      <th>close</th>\n",
       "      <th>vwap</th>\n",
       "      <th>volume</th>\n",
       "      <th>count</th>\n",
       "    </tr>\n",
       "    <tr>\n",
       "      <th>time</th>\n",
       "      <th></th>\n",
       "      <th></th>\n",
       "      <th></th>\n",
       "      <th></th>\n",
       "      <th></th>\n",
       "      <th></th>\n",
       "      <th></th>\n",
       "    </tr>\n",
       "  </thead>\n",
       "  <tbody>\n",
       "    <tr>\n",
       "      <th>2019-12-15 10:59:28</th>\n",
       "      <td>143.080002</td>\n",
       "      <td>143.149994</td>\n",
       "      <td>142.289993</td>\n",
       "      <td>142.369995</td>\n",
       "      <td>142.690002</td>\n",
       "      <td>170.540176</td>\n",
       "      <td>142.0</td>\n",
       "    </tr>\n",
       "    <tr>\n",
       "      <th>2019-12-15 11:59:12</th>\n",
       "      <td>142.380005</td>\n",
       "      <td>142.770004</td>\n",
       "      <td>142.360001</td>\n",
       "      <td>142.770004</td>\n",
       "      <td>142.570007</td>\n",
       "      <td>126.873497</td>\n",
       "      <td>77.0</td>\n",
       "    </tr>\n",
       "    <tr>\n",
       "      <th>2019-12-15 12:58:56</th>\n",
       "      <td>142.770004</td>\n",
       "      <td>142.960007</td>\n",
       "      <td>141.839996</td>\n",
       "      <td>141.949997</td>\n",
       "      <td>142.309998</td>\n",
       "      <td>572.049438</td>\n",
       "      <td>110.0</td>\n",
       "    </tr>\n",
       "    <tr>\n",
       "      <th>2019-12-15 14:00:48</th>\n",
       "      <td>141.919998</td>\n",
       "      <td>142.380005</td>\n",
       "      <td>141.919998</td>\n",
       "      <td>142.259995</td>\n",
       "      <td>142.179993</td>\n",
       "      <td>911.547302</td>\n",
       "      <td>67.0</td>\n",
       "    </tr>\n",
       "    <tr>\n",
       "      <th>2019-12-15 15:00:32</th>\n",
       "      <td>142.259995</td>\n",
       "      <td>142.740005</td>\n",
       "      <td>142.259995</td>\n",
       "      <td>142.660004</td>\n",
       "      <td>142.500000</td>\n",
       "      <td>536.853271</td>\n",
       "      <td>181.0</td>\n",
       "    </tr>\n",
       "    <tr>\n",
       "      <th>...</th>\n",
       "      <td>...</td>\n",
       "      <td>...</td>\n",
       "      <td>...</td>\n",
       "      <td>...</td>\n",
       "      <td>...</td>\n",
       "      <td>...</td>\n",
       "      <td>...</td>\n",
       "    </tr>\n",
       "    <tr>\n",
       "      <th>2020-01-14 06:00:48</th>\n",
       "      <td>149.179993</td>\n",
       "      <td>149.399994</td>\n",
       "      <td>148.160004</td>\n",
       "      <td>148.160004</td>\n",
       "      <td>148.860001</td>\n",
       "      <td>1658.400513</td>\n",
       "      <td>245.0</td>\n",
       "    </tr>\n",
       "    <tr>\n",
       "      <th>2020-01-14 07:00:32</th>\n",
       "      <td>148.160004</td>\n",
       "      <td>149.039993</td>\n",
       "      <td>148.020004</td>\n",
       "      <td>148.929993</td>\n",
       "      <td>148.649994</td>\n",
       "      <td>1562.935425</td>\n",
       "      <td>175.0</td>\n",
       "    </tr>\n",
       "    <tr>\n",
       "      <th>2020-01-14 08:00:16</th>\n",
       "      <td>149.020004</td>\n",
       "      <td>149.490005</td>\n",
       "      <td>148.820007</td>\n",
       "      <td>149.179993</td>\n",
       "      <td>148.929993</td>\n",
       "      <td>1782.238892</td>\n",
       "      <td>131.0</td>\n",
       "    </tr>\n",
       "    <tr>\n",
       "      <th>2020-01-14 09:00:00</th>\n",
       "      <td>149.089996</td>\n",
       "      <td>149.550003</td>\n",
       "      <td>149.070007</td>\n",
       "      <td>149.250000</td>\n",
       "      <td>149.309998</td>\n",
       "      <td>641.747253</td>\n",
       "      <td>164.0</td>\n",
       "    </tr>\n",
       "    <tr>\n",
       "      <th>2020-01-14 09:59:44</th>\n",
       "      <td>149.250000</td>\n",
       "      <td>151.789993</td>\n",
       "      <td>149.229996</td>\n",
       "      <td>150.779999</td>\n",
       "      <td>150.470001</td>\n",
       "      <td>1492.923950</td>\n",
       "      <td>373.0</td>\n",
       "    </tr>\n",
       "  </tbody>\n",
       "</table>\n",
       "<p>720 rows × 7 columns</p>\n",
       "</div>"
      ],
      "text/plain": [
       "                           open        high         low       close  \\\n",
       "time                                                                  \n",
       "2019-12-15 10:59:28  143.080002  143.149994  142.289993  142.369995   \n",
       "2019-12-15 11:59:12  142.380005  142.770004  142.360001  142.770004   \n",
       "2019-12-15 12:58:56  142.770004  142.960007  141.839996  141.949997   \n",
       "2019-12-15 14:00:48  141.919998  142.380005  141.919998  142.259995   \n",
       "2019-12-15 15:00:32  142.259995  142.740005  142.259995  142.660004   \n",
       "...                         ...         ...         ...         ...   \n",
       "2020-01-14 06:00:48  149.179993  149.399994  148.160004  148.160004   \n",
       "2020-01-14 07:00:32  148.160004  149.039993  148.020004  148.929993   \n",
       "2020-01-14 08:00:16  149.020004  149.490005  148.820007  149.179993   \n",
       "2020-01-14 09:00:00  149.089996  149.550003  149.070007  149.250000   \n",
       "2020-01-14 09:59:44  149.250000  151.789993  149.229996  150.779999   \n",
       "\n",
       "                           vwap       volume  count  \n",
       "time                                                 \n",
       "2019-12-15 10:59:28  142.690002   170.540176  142.0  \n",
       "2019-12-15 11:59:12  142.570007   126.873497   77.0  \n",
       "2019-12-15 12:58:56  142.309998   572.049438  110.0  \n",
       "2019-12-15 14:00:48  142.179993   911.547302   67.0  \n",
       "2019-12-15 15:00:32  142.500000   536.853271  181.0  \n",
       "...                         ...          ...    ...  \n",
       "2020-01-14 06:00:48  148.860001  1658.400513  245.0  \n",
       "2020-01-14 07:00:32  148.649994  1562.935425  175.0  \n",
       "2020-01-14 08:00:16  148.929993  1782.238892  131.0  \n",
       "2020-01-14 09:00:00  149.309998   641.747253  164.0  \n",
       "2020-01-14 09:59:44  150.470001  1492.923950  373.0  \n",
       "\n",
       "[720 rows x 7 columns]"
      ]
     },
     "execution_count": 60,
     "metadata": {},
     "output_type": "execute_result"
    }
   ],
   "source": [
    "ohlc = ohlc_data_of()\n",
    "ohlc"
   ]
  },
  {
   "cell_type": "code",
   "execution_count": 41,
   "metadata": {},
   "outputs": [
    {
     "data": {
      "text/plain": [
       "<matplotlib.axes._subplots.AxesSubplot at 0x22a4610d1c8>"
      ]
     },
     "execution_count": 41,
     "metadata": {},
     "output_type": "execute_result"
    },
    {
     "data": {
      "image/png": "[encoded data removed]",
      "text/plain": [
       "<Figure size 864x432 with 1 Axes>"
      ]
     },
     "metadata": {
      "needs_background": "light"
     },
     "output_type": "display_data"
    }
   ],
   "source": [
    "ohlc.close.plot(figsize=(12,6))"
   ]
  },
  {
   "cell_type": "markdown",
   "metadata": {},
   "source": [
    "<font color=green>**Problem 3: Write a function server_time() that gives the [Kraken](https://www.kraken.com/features/api#get-server-time) server time.**</font>"
   ]
  },
  {
   "cell_type": "code",
   "execution_count": 46,
   "metadata": {},
   "outputs": [],
   "source": [
    "def server_time():\n",
    "    url = 'https://api.kraken.com/0/public/Time'\n",
    "    jsonData = requests.get(url).json()\n",
    "    \n",
    "    return datetime.datetime.fromtimestamp(jsonData[\"result\"][\"unixtime\"])"
   ]
  },
  {
   "cell_type": "code",
   "execution_count": 48,
   "metadata": {},
   "outputs": [
    {
     "name": "stdout",
     "output_type": "stream",
     "text": [
      "2020-01-14 10:32:22\n"
     ]
    }
   ],
   "source": [
    "print(server_time())"
   ]
  },
  {
   "cell_type": "markdown",
   "metadata": {},
   "source": [
    "<font color=green>**Problem 4: Write a class KrakenInterface that includes the functionality from Problem 1, Problem 2, and Problem 3.**</font>"
   ]
  },
  {
   "cell_type": "code",
   "execution_count": 62,
   "metadata": {},
   "outputs": [
    {
     "data": {
      "text/plain": [
       "name\n",
       "Augur                 REP\n",
       "Bitcoin               XBT\n",
       "Bitcoin Cash          BCH\n",
       "Cardano               ADA\n",
       "Chainlink            LINK\n",
       "Cosmos               ATOM\n",
       "Dash                 DASH\n",
       "Dai                   DAI\n",
       "Dogecoin              XDG\n",
       "EOS                   EOS\n",
       "Ethereum              ETH\n",
       "Ethereum Classic      ETC\n",
       "Gnosis                GNO\n",
       "ICON                  ICX\n",
       "Lisk                  LSK\n",
       "Litecoin              LTC\n",
       "Watermelon            MLN\n",
       "Monero                XMR\n",
       "Nano                 NANO\n",
       "OmiseGO               OMG\n",
       "PAX Gold             PAXG\n",
       "QTUM                 QTUM\n",
       "Ripple                XRP\n",
       "Siacoin                SC\n",
       "Stellar Lumens        XLM\n",
       "Tezos                 XTZ\n",
       "USD Coin             USDC\n",
       "Waves               WAVES\n",
       "Zcash                 ZEC\n",
       "Augur                 REP\n",
       "Bitcoin               XBT\n",
       "Bitcoin Cash          BCH\n",
       "Cardano               ADA\n",
       "Chainlink            LINK\n",
       "Cosmos               ATOM\n",
       "Dash                 DASH\n",
       "Dai                   DAI\n",
       "Dogecoin              XDG\n",
       "EOS                   EOS\n",
       "Ethereum              ETH\n",
       "Ethereum Classic      ETC\n",
       "Gnosis                GNO\n",
       "ICON                  ICX\n",
       "Lisk                  LSK\n",
       "Litecoin              LTC\n",
       "Watermelon            MLN\n",
       "OmiseGO               OMG\n",
       "PAX Gold             PAXG\n",
       "Monero                XMR\n",
       "Nano                 NANO\n",
       "QTUM                 QTUM\n",
       "Ripple                XRP\n",
       "Siacoin                SC\n",
       "Stellar Lumens        XLM\n",
       "Tezos                 XTZ\n",
       "USD Coin              USC\n",
       "Waves               WAVES\n",
       "Zcash                 ZEC\n",
       "Name: code, dtype: object"
      ]
     },
     "execution_count": 62,
     "metadata": {},
     "output_type": "execute_result"
    }
   ],
   "source": [
    "from bs4 import BeautifulSoup\n",
    "import requests, re\n",
    "import pandas as pd\n",
    "\n",
    "url = 'https://support.kraken.com/hc/en-us/articles/201893658-Currency-pairs-available-for-trading-on-Kraken'\n",
    "page = requests.get(url)\n",
    "soup = BeautifulSoup(page.text,\"lxml\")\n",
    "page.close()\n",
    "\n",
    "tbody = str(soup.find_all('tbody'))\n",
    "asset_names = re.findall(r'<td>(\\w+\\s*\\w*)</td>\\s*<td><strong>(.*)</strong></td>', tbody)\n",
    "assets_frame = pd.DataFrame(asset_names, columns=['name', 'code']).set_index('name')"
   ]
  },
  {
   "cell_type": "code",
   "execution_count": 69,
   "metadata": {},
   "outputs": [
    {
     "data": {
      "text/plain": [
       "True"
      ]
     },
     "execution_count": 69,
     "metadata": {},
     "output_type": "execute_result"
    }
   ],
   "source": [
    "assets_frame.code.isin(['REP']).any()"
   ]
  }
 ],
 "metadata": {
  "anaconda-cloud": {},
  "kernelspec": {
   "display_name": "Python 3",
   "language": "python",
   "name": "python3"
  },
  "language_info": {
   "codemirror_mode": {
    "name": "ipython",
    "version": 3
   },
   "file_extension": ".py",
   "mimetype": "text/x-python",
   "name": "python",
   "nbconvert_exporter": "python",
   "pygments_lexer": "ipython3",
   "version": "3.7.5"
  }
 },
 "nbformat": 4,
 "nbformat_minor": 4
}
