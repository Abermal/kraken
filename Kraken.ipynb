{
 "cells": [
  {
   "cell_type": "code",
   "execution_count": 172,
   "metadata": {},
   "outputs": [],
   "source": [
    "import pandas as pd\n",
    "import numpy as np\n",
    "import requests, re\n",
    "import datetime\n",
    "import time\n",
    "from KrakenInterface import KrakenInterface\n",
    "from bs4 import BeautifulSoup"
   ]
  },
  {
   "cell_type": "code",
   "execution_count": 173,
   "metadata": {},
   "outputs": [
    {
     "data": {
      "text/html": [
       "<div>\n",
       "<style scoped>\n",
       "    .dataframe tbody tr th:only-of-type {\n",
       "        vertical-align: middle;\n",
       "    }\n",
       "\n",
       "    .dataframe tbody tr th {\n",
       "        vertical-align: top;\n",
       "    }\n",
       "\n",
       "    .dataframe thead th {\n",
       "        text-align: right;\n",
       "    }\n",
       "</style>\n",
       "<table border=\"1\" class=\"dataframe\">\n",
       "  <thead>\n",
       "    <tr style=\"text-align: right;\">\n",
       "      <th></th>\n",
       "      <th>price</th>\n",
       "      <th>volume</th>\n",
       "      <th>timestamp</th>\n",
       "    </tr>\n",
       "  </thead>\n",
       "  <tbody>\n",
       "    <tr>\n",
       "      <th>0</th>\n",
       "      <td>8152.100098</td>\n",
       "      <td>0.769</td>\n",
       "      <td>2020-05-25 21:29:20</td>\n",
       "    </tr>\n",
       "    <tr>\n",
       "      <th>1</th>\n",
       "      <td>8155.000000</td>\n",
       "      <td>0.250</td>\n",
       "      <td>2020-05-25 21:27:12</td>\n",
       "    </tr>\n",
       "    <tr>\n",
       "      <th>2</th>\n",
       "      <td>8160.200195</td>\n",
       "      <td>0.050</td>\n",
       "      <td>2020-05-25 21:29:20</td>\n",
       "    </tr>\n",
       "    <tr>\n",
       "      <th>3</th>\n",
       "      <td>8160.899902</td>\n",
       "      <td>0.297</td>\n",
       "      <td>2020-05-25 21:29:20</td>\n",
       "    </tr>\n",
       "    <tr>\n",
       "      <th>4</th>\n",
       "      <td>8162.399902</td>\n",
       "      <td>2.500</td>\n",
       "      <td>2020-05-25 21:29:20</td>\n",
       "    </tr>\n",
       "    <tr>\n",
       "      <th>5</th>\n",
       "      <td>8162.700195</td>\n",
       "      <td>0.570</td>\n",
       "      <td>2020-05-25 21:29:20</td>\n",
       "    </tr>\n",
       "    <tr>\n",
       "      <th>6</th>\n",
       "      <td>8162.899902</td>\n",
       "      <td>0.309</td>\n",
       "      <td>2020-05-25 21:29:20</td>\n",
       "    </tr>\n",
       "    <tr>\n",
       "      <th>7</th>\n",
       "      <td>8163.100098</td>\n",
       "      <td>0.100</td>\n",
       "      <td>2020-05-25 21:29:20</td>\n",
       "    </tr>\n",
       "    <tr>\n",
       "      <th>8</th>\n",
       "      <td>8163.600098</td>\n",
       "      <td>0.105</td>\n",
       "      <td>2020-05-25 21:29:20</td>\n",
       "    </tr>\n",
       "    <tr>\n",
       "      <th>9</th>\n",
       "      <td>8164.799805</td>\n",
       "      <td>0.288</td>\n",
       "      <td>2020-05-25 21:29:20</td>\n",
       "    </tr>\n",
       "  </tbody>\n",
       "</table>\n",
       "</div>"
      ],
      "text/plain": [
       "         price  volume           timestamp\n",
       "0  8152.100098   0.769 2020-05-25 21:29:20\n",
       "1  8155.000000   0.250 2020-05-25 21:27:12\n",
       "2  8160.200195   0.050 2020-05-25 21:29:20\n",
       "3  8160.899902   0.297 2020-05-25 21:29:20\n",
       "4  8162.399902   2.500 2020-05-25 21:29:20\n",
       "5  8162.700195   0.570 2020-05-25 21:29:20\n",
       "6  8162.899902   0.309 2020-05-25 21:29:20\n",
       "7  8163.100098   0.100 2020-05-25 21:29:20\n",
       "8  8163.600098   0.105 2020-05-25 21:29:20\n",
       "9  8164.799805   0.288 2020-05-25 21:29:20"
      ]
     },
     "execution_count": 173,
     "metadata": {},
     "output_type": "execute_result"
    }
   ],
   "source": [
    "asset = 'XBT'\n",
    "fiat = 'EUR'\n",
    "kr = KrakenInterface()\n",
    "asks, bids = kr.order_book_of(10)\n",
    "rec = requests.get('https://api.kraken.com/0/public/Ticker?pair=XBTEUR').json()['result']\n",
    "asks"
   ]
  },
  {
   "cell_type": "code",
   "execution_count": 174,
   "metadata": {},
   "outputs": [
    {
     "data": {
      "text/plain": [
       "{'XXBTZEUR': {'a': ['8152.10000', '1', '1.000'],\n",
       "  'b': ['8152.00000', '15', '15.000'],\n",
       "  'c': ['8152.10000', '0.00612005'],\n",
       "  'v': ['5044.92367492', '7291.66987336'],\n",
       "  'p': ['8080.65558', '8097.48271'],\n",
       "  't': [25653, 36716],\n",
       "  'l': ['7938.40000', '7938.40000'],\n",
       "  'h': ['8188.40000', '8350.20000'],\n",
       "  'o': '8008.10000'}}"
      ]
     },
     "execution_count": 174,
     "metadata": {},
     "output_type": "execute_result"
    }
   ],
   "source": [
    "rec"
   ]
  },
  {
   "cell_type": "code",
   "execution_count": 176,
   "metadata": {},
   "outputs": [],
   "source": [
    "ass = kr.get_assets_names()"
   ]
  },
  {
   "cell_type": "code",
   "execution_count": 177,
   "metadata": {},
   "outputs": [],
   "source": [
    "# ass"
   ]
  },
  {
   "cell_type": "code",
   "execution_count": 178,
   "metadata": {},
   "outputs": [
    {
     "data": {
      "text/plain": [
       "Index(['Algorand', 'Augur', 'Bitcoin', 'Bitcoin Cash', 'Cardano', 'Chainlink',\n",
       "       'Cosmos', 'Dai', 'Dash', 'Dogecoin', 'EOS', 'Ethereum',\n",
       "       'Ethereum Classic', 'Gnosis', 'ICON', 'Lisk', 'Litecoin', 'Monero',\n",
       "       'Nano', 'OmiseGO', 'PAX Gold', 'QTUM', 'Ripple', 'Siacoin',\n",
       "       'Stellar Lumens', 'Tezos', 'Tron', 'USD Coin', 'Watermelon', 'Waves',\n",
       "       'Zcash'],\n",
       "      dtype='object', name='name')"
      ]
     },
     "execution_count": 178,
     "metadata": {},
     "output_type": "execute_result"
    }
   ],
   "source": [
    "ass.index"
   ]
  },
  {
   "cell_type": "code",
   "execution_count": 179,
   "metadata": {},
   "outputs": [
    {
     "data": {
      "text/plain": [
       "array(['ALGO', 'REP', 'XBT', 'BCH', 'ADA', 'LINK', 'ATOM', 'DAI', 'DASH',\n",
       "       'XDG', 'EOS', 'ETH', 'ETC', 'GNO', 'ICX', 'LSK', 'LTC', 'XMR',\n",
       "       'NANO', 'OMG', 'PAXG', 'QTUM', 'XRP', 'SC', 'XLM', 'XTZ', 'TRX',\n",
       "       'USDC', 'MLN', 'WAVES', 'ZEC'], dtype=object)"
      ]
     },
     "execution_count": 179,
     "metadata": {},
     "output_type": "execute_result"
    }
   ],
   "source": [
    "ass.values.reshape(-1)"
   ]
  },
  {
   "cell_type": "code",
   "execution_count": 180,
   "metadata": {},
   "outputs": [
    {
     "name": "stdout",
     "output_type": "stream",
     "text": [
      "ADA  | Cardano\n",
      "ALGO | Algorand\n",
      "ATOM | Cosmos\n",
      "BAT  | Basic Attention Token\n",
      "BCH  | Bitcoin Cash\n",
      "DAI  | Dai\n",
      "DASH | DASH\n",
      "EOS  | EOS\n",
      "GNO  | Gnosis\n",
      "ICX  | ICON\n",
      "LINK | Chainlink\n",
      "LSK  | Lisk\n",
      "OMG  | OmiseGO\n",
      "PAXG | PAX Gold\n",
      "QTUM | QTUM\n",
      "SC   | Siacoin\n",
      "TRX  | Tron\n",
      "USDT | Tether\n",
      "USDC | USD Coin\n",
      "WAVE | Waves\n",
      "XETC | Ethereum Classic\n",
      "XETH | Ethereum\n",
      "XLTC | Litecoin\n",
      "XMLN | Watermelon\n",
      "XREP | Augur\n",
      "XXBT | Bitcoin\n",
      "XXDG | Dogecoin\n",
      "XXLM | Stellar Lumens\n",
      "XXMR | Monero\n",
      "XXRP | Ripple\n",
      "XXTZ | Tezos\n",
      "XZEC | Zcash\n",
      "ZCAD | Canadian dollar\n",
      "ZEUR | Euro\n",
      "ZGBP | Great British Pound\n",
      "ZJPY | Japanese Yen\n",
      "ZUSD | US Dollar\n",
      "KFEE | Kraken Fee Credits\n",
      "\n"
     ]
    }
   ],
   "source": [
    "s = ''\n",
    "for key, val in zip(asset_names.codes.values, asset_names.name.values):\n",
    "    s += '{:<4s} | {:s}\\n'.format(str(key), str(val))\n",
    "    \n",
    "print(s)"
   ]
  },
  {
   "cell_type": "code",
   "execution_count": 181,
   "metadata": {},
   "outputs": [
    {
     "data": {
      "text/plain": [
       "187.98"
      ]
     },
     "execution_count": 181,
     "metadata": {},
     "output_type": "execute_result"
    }
   ],
   "source": [
    "kr.asset = 'ETH'\n",
    "kr.order_book_of(1)[0].price.iloc[-1]"
   ]
  },
  {
   "cell_type": "code",
   "execution_count": 182,
   "metadata": {},
   "outputs": [],
   "source": [
    "page = open(r'curr_names.html', 'r').read()\n",
    "soup = BeautifulSoup(page, \"html\")\n",
    "tbody = str(soup.find('tbody'))"
   ]
  },
  {
   "cell_type": "code",
   "execution_count": 183,
   "metadata": {},
   "outputs": [
    {
     "data": {
      "text/html": [
       "<div>\n",
       "<style scoped>\n",
       "    .dataframe tbody tr th:only-of-type {\n",
       "        vertical-align: middle;\n",
       "    }\n",
       "\n",
       "    .dataframe tbody tr th {\n",
       "        vertical-align: top;\n",
       "    }\n",
       "\n",
       "    .dataframe thead th {\n",
       "        text-align: right;\n",
       "    }\n",
       "</style>\n",
       "<table border=\"1\" class=\"dataframe\">\n",
       "  <thead>\n",
       "    <tr style=\"text-align: right;\">\n",
       "      <th></th>\n",
       "      <th>codes</th>\n",
       "      <th>name</th>\n",
       "    </tr>\n",
       "  </thead>\n",
       "  <tbody>\n",
       "    <tr>\n",
       "      <th>32</th>\n",
       "      <td>ZCAD</td>\n",
       "      <td>Canadian dollar</td>\n",
       "    </tr>\n",
       "    <tr>\n",
       "      <th>33</th>\n",
       "      <td>ZEUR</td>\n",
       "      <td>Euro</td>\n",
       "    </tr>\n",
       "    <tr>\n",
       "      <th>34</th>\n",
       "      <td>ZGBP</td>\n",
       "      <td>Great British Pound</td>\n",
       "    </tr>\n",
       "    <tr>\n",
       "      <th>35</th>\n",
       "      <td>ZJPY</td>\n",
       "      <td>Japanese Yen</td>\n",
       "    </tr>\n",
       "    <tr>\n",
       "      <th>36</th>\n",
       "      <td>ZUSD</td>\n",
       "      <td>US Dollar</td>\n",
       "    </tr>\n",
       "  </tbody>\n",
       "</table>\n",
       "</div>"
      ],
      "text/plain": [
       "   codes                 name\n",
       "32  ZCAD      Canadian dollar\n",
       "33  ZEUR                 Euro\n",
       "34  ZGBP  Great British Pound\n",
       "35  ZJPY         Japanese Yen\n",
       "36  ZUSD            US Dollar"
      ]
     },
     "execution_count": 183,
     "metadata": {},
     "output_type": "execute_result"
    }
   ],
   "source": [
    "asset_names = re.findall('<tr>\\n<td class=\"confluenceTd\">(\\w*)</td>\\n<td class=\"confluenceTd\">(.*)</td>', tbody)\n",
    "asset_names = pd.DataFrame(asset_names, columns=['codes', 'name'])\n",
    "fiatnames = asset_names[asset_names.codes.isin(fiats)]\n",
    "# codes_clean = asset_names.codes.apply(lambda x: x[1:] if (x[0] == \"X\")|(x[0] == \"Z\") else x)\n",
    "# asset_names.codes = codes_clean\n",
    "asset_names[asset_names.codes.str.startswith('Z')]\n",
    "# .sort_values('codes')\n",
    "fiatnames"
   ]
  },
  {
   "cell_type": "code",
   "execution_count": 184,
   "metadata": {},
   "outputs": [
    {
     "data": {
      "text/plain": [
       "Index(['altname', 'wsname', 'aclass_base', 'base', 'aclass_quote', 'quote'], dtype='object')"
      ]
     },
     "execution_count": 184,
     "metadata": {},
     "output_type": "execute_result"
    }
   ],
   "source": [
    "allpairs[allpairs.base.isin(codes_clean)].columns"
   ]
  },
  {
   "cell_type": "code",
   "execution_count": 185,
   "metadata": {},
   "outputs": [],
   "source": [
    "url = 'https://api.kraken.com/0/public/AssetPairs'\n",
    "page = requests.get(url)\n",
    "jString = page.json()"
   ]
  },
  {
   "cell_type": "code",
   "execution_count": 186,
   "metadata": {},
   "outputs": [],
   "source": [
    "allpairs = pd.DataFrame(jString[\"result\"]).T.iloc[:, :6]"
   ]
  },
  {
   "cell_type": "code",
   "execution_count": 187,
   "metadata": {},
   "outputs": [
    {
     "data": {
      "text/plain": [
       "['ZEUR', 'ZUSD', 'ZGBP', 'ZCAD', 'ZJPY']"
      ]
     },
     "execution_count": 187,
     "metadata": {},
     "output_type": "execute_result"
    }
   ],
   "source": [
    "# allpairs = jString[\"result\"].keys()\n",
    "\n",
    "fiats = [x for x in allpairs.quote.unique() if x[0] == \"Z\"]\n",
    "fiats"
   ]
  },
  {
   "cell_type": "code",
   "execution_count": 188,
   "metadata": {},
   "outputs": [
    {
     "data": {
      "text/plain": [
       "['ZEUR', 'ZUSD', 'ZGBP', 'ZCAD', 'ZJPY']"
      ]
     },
     "execution_count": 188,
     "metadata": {},
     "output_type": "execute_result"
    }
   ],
   "source": [
    "fiats"
   ]
  },
  {
   "cell_type": "code",
   "execution_count": 197,
   "metadata": {},
   "outputs": [],
   "source": [
    "fiatmask = allpairs['quote'].isin(fiats)"
   ]
  },
  {
   "cell_type": "code",
   "execution_count": 202,
   "metadata": {},
   "outputs": [
    {
     "data": {
      "text/html": [
       "<div>\n",
       "<style scoped>\n",
       "    .dataframe tbody tr th:only-of-type {\n",
       "        vertical-align: middle;\n",
       "    }\n",
       "\n",
       "    .dataframe tbody tr th {\n",
       "        vertical-align: top;\n",
       "    }\n",
       "\n",
       "    .dataframe thead th {\n",
       "        text-align: right;\n",
       "    }\n",
       "</style>\n",
       "<table border=\"1\" class=\"dataframe\">\n",
       "  <thead>\n",
       "    <tr style=\"text-align: right;\">\n",
       "      <th></th>\n",
       "      <th>altname</th>\n",
       "      <th>wsname</th>\n",
       "      <th>aclass_base</th>\n",
       "      <th>base</th>\n",
       "      <th>aclass_quote</th>\n",
       "      <th>quote</th>\n",
       "    </tr>\n",
       "  </thead>\n",
       "  <tbody>\n",
       "    <tr>\n",
       "      <th>ADAEUR</th>\n",
       "      <td>ADAEUR</td>\n",
       "      <td>ADA/EUR</td>\n",
       "      <td>currency</td>\n",
       "      <td>ADA</td>\n",
       "      <td>currency</td>\n",
       "      <td>ZEUR</td>\n",
       "    </tr>\n",
       "    <tr>\n",
       "      <th>ADAUSD</th>\n",
       "      <td>ADAUSD</td>\n",
       "      <td>ADA/USD</td>\n",
       "      <td>currency</td>\n",
       "      <td>ADA</td>\n",
       "      <td>currency</td>\n",
       "      <td>ZUSD</td>\n",
       "    </tr>\n",
       "    <tr>\n",
       "      <th>ALGOEUR</th>\n",
       "      <td>ALGOEUR</td>\n",
       "      <td>ALGO/EUR</td>\n",
       "      <td>currency</td>\n",
       "      <td>ALGO</td>\n",
       "      <td>currency</td>\n",
       "      <td>ZEUR</td>\n",
       "    </tr>\n",
       "    <tr>\n",
       "      <th>ALGOUSD</th>\n",
       "      <td>ALGOUSD</td>\n",
       "      <td>ALGO/USD</td>\n",
       "      <td>currency</td>\n",
       "      <td>ALGO</td>\n",
       "      <td>currency</td>\n",
       "      <td>ZUSD</td>\n",
       "    </tr>\n",
       "    <tr>\n",
       "      <th>ATOMEUR</th>\n",
       "      <td>ATOMEUR</td>\n",
       "      <td>ATOM/EUR</td>\n",
       "      <td>currency</td>\n",
       "      <td>ATOM</td>\n",
       "      <td>currency</td>\n",
       "      <td>ZEUR</td>\n",
       "    </tr>\n",
       "    <tr>\n",
       "      <th>...</th>\n",
       "      <td>...</td>\n",
       "      <td>...</td>\n",
       "      <td>...</td>\n",
       "      <td>...</td>\n",
       "      <td>...</td>\n",
       "      <td>...</td>\n",
       "    </tr>\n",
       "    <tr>\n",
       "      <th>XZECZUSD</th>\n",
       "      <td>ZECUSD</td>\n",
       "      <td>ZEC/USD</td>\n",
       "      <td>currency</td>\n",
       "      <td>XZEC</td>\n",
       "      <td>currency</td>\n",
       "      <td>ZUSD</td>\n",
       "    </tr>\n",
       "    <tr>\n",
       "      <th>ZEURZUSD</th>\n",
       "      <td>EURUSD</td>\n",
       "      <td>EUR/USD</td>\n",
       "      <td>currency</td>\n",
       "      <td>ZEUR</td>\n",
       "      <td>currency</td>\n",
       "      <td>ZUSD</td>\n",
       "    </tr>\n",
       "    <tr>\n",
       "      <th>ZGBPZUSD</th>\n",
       "      <td>GBPUSD</td>\n",
       "      <td>GBP/USD</td>\n",
       "      <td>currency</td>\n",
       "      <td>ZGBP</td>\n",
       "      <td>currency</td>\n",
       "      <td>ZUSD</td>\n",
       "    </tr>\n",
       "    <tr>\n",
       "      <th>ZUSDZCAD</th>\n",
       "      <td>USDCAD</td>\n",
       "      <td>USD/CAD</td>\n",
       "      <td>currency</td>\n",
       "      <td>ZUSD</td>\n",
       "      <td>currency</td>\n",
       "      <td>ZCAD</td>\n",
       "    </tr>\n",
       "    <tr>\n",
       "      <th>ZUSDZJPY</th>\n",
       "      <td>USDJPY</td>\n",
       "      <td>USD/JPY</td>\n",
       "      <td>currency</td>\n",
       "      <td>ZUSD</td>\n",
       "      <td>currency</td>\n",
       "      <td>ZJPY</td>\n",
       "    </tr>\n",
       "  </tbody>\n",
       "</table>\n",
       "<p>97 rows × 6 columns</p>\n",
       "</div>"
      ],
      "text/plain": [
       "          altname    wsname aclass_base  base aclass_quote quote\n",
       "ADAEUR     ADAEUR   ADA/EUR    currency   ADA     currency  ZEUR\n",
       "ADAUSD     ADAUSD   ADA/USD    currency   ADA     currency  ZUSD\n",
       "ALGOEUR   ALGOEUR  ALGO/EUR    currency  ALGO     currency  ZEUR\n",
       "ALGOUSD   ALGOUSD  ALGO/USD    currency  ALGO     currency  ZUSD\n",
       "ATOMEUR   ATOMEUR  ATOM/EUR    currency  ATOM     currency  ZEUR\n",
       "...           ...       ...         ...   ...          ...   ...\n",
       "XZECZUSD   ZECUSD   ZEC/USD    currency  XZEC     currency  ZUSD\n",
       "ZEURZUSD   EURUSD   EUR/USD    currency  ZEUR     currency  ZUSD\n",
       "ZGBPZUSD   GBPUSD   GBP/USD    currency  ZGBP     currency  ZUSD\n",
       "ZUSDZCAD   USDCAD   USD/CAD    currency  ZUSD     currency  ZCAD\n",
       "ZUSDZJPY   USDJPY   USD/JPY    currency  ZUSD     currency  ZJPY\n",
       "\n",
       "[97 rows x 6 columns]"
      ]
     },
     "execution_count": 202,
     "metadata": {},
     "output_type": "execute_result"
    }
   ],
   "source": [
    "fiatpairs = allpairs[fiatmask]\n",
    "fiatpairs"
   ]
  },
  {
   "cell_type": "code",
   "execution_count": 190,
   "metadata": {},
   "outputs": [
    {
     "data": {
      "text/plain": [
       "array(['ADA', 'ALGO', 'ATOM', 'BAT', 'BCH', 'DAI', 'DASH', 'EOS', 'ZEUR',\n",
       "       'GNO', 'ICX', 'LINK', 'LSK', 'XLTC', 'NANO', 'OMG', 'PAXG', 'QTUM',\n",
       "       'SC', 'TRX', 'USDC', 'USDT', 'WAVES', 'XXDG', 'XETC', 'XETH',\n",
       "       'XMLN', 'XREP', 'XXRP', 'XTZ', 'XXBT', 'XXLM', 'XXMR', 'XZEC',\n",
       "       'ZGBP', 'ZUSD'], dtype=object)"
      ]
     },
     "execution_count": 190,
     "metadata": {},
     "output_type": "execute_result"
    }
   ],
   "source": [
    "cryptofiat = fiatpairs.base.unique()\n",
    "cryptofiat"
   ]
  },
  {
   "cell_type": "code",
   "execution_count": 191,
   "metadata": {},
   "outputs": [
    {
     "data": {
      "text/plain": [
       "array(['ADA', 'ALGO', 'ATOM', 'BAT', 'BCH', 'DAI', 'DASH', 'EOS', 'ZEUR',\n",
       "       'GNO', 'ICX', 'LINK', 'LSK', 'XLTC', 'NANO', 'OMG', 'PAXG', 'QTUM',\n",
       "       'SC', 'TRX', 'USDC', 'USDT', 'WAVES', 'XXDG', 'XETC', 'XETH',\n",
       "       'XMLN', 'XREP', 'XXRP', 'XTZ', 'XXBT', 'XXLM', 'XXMR', 'XZEC',\n",
       "       'ZGBP', 'ZUSD'], dtype=object)"
      ]
     },
     "execution_count": 191,
     "metadata": {},
     "output_type": "execute_result"
    }
   ],
   "source": [
    "cryptofiat"
   ]
  },
  {
   "cell_type": "code",
   "execution_count": 192,
   "metadata": {},
   "outputs": [
    {
     "data": {
      "text/html": [
       "<div>\n",
       "<style scoped>\n",
       "    .dataframe tbody tr th:only-of-type {\n",
       "        vertical-align: middle;\n",
       "    }\n",
       "\n",
       "    .dataframe tbody tr th {\n",
       "        vertical-align: top;\n",
       "    }\n",
       "\n",
       "    .dataframe thead th {\n",
       "        text-align: right;\n",
       "    }\n",
       "</style>\n",
       "<table border=\"1\" class=\"dataframe\">\n",
       "  <thead>\n",
       "    <tr style=\"text-align: right;\">\n",
       "      <th></th>\n",
       "      <th>codes</th>\n",
       "      <th>name</th>\n",
       "    </tr>\n",
       "  </thead>\n",
       "  <tbody>\n",
       "    <tr>\n",
       "      <th>0</th>\n",
       "      <td>ADA</td>\n",
       "      <td>Cardano</td>\n",
       "    </tr>\n",
       "    <tr>\n",
       "      <th>1</th>\n",
       "      <td>ALGO</td>\n",
       "      <td>Algorand</td>\n",
       "    </tr>\n",
       "    <tr>\n",
       "      <th>2</th>\n",
       "      <td>ATOM</td>\n",
       "      <td>Cosmos</td>\n",
       "    </tr>\n",
       "    <tr>\n",
       "      <th>3</th>\n",
       "      <td>BAT</td>\n",
       "      <td>Basic Attention Token</td>\n",
       "    </tr>\n",
       "    <tr>\n",
       "      <th>4</th>\n",
       "      <td>BCH</td>\n",
       "      <td>Bitcoin Cash</td>\n",
       "    </tr>\n",
       "    <tr>\n",
       "      <th>5</th>\n",
       "      <td>DAI</td>\n",
       "      <td>Dai</td>\n",
       "    </tr>\n",
       "    <tr>\n",
       "      <th>6</th>\n",
       "      <td>DASH</td>\n",
       "      <td>DASH</td>\n",
       "    </tr>\n",
       "    <tr>\n",
       "      <th>7</th>\n",
       "      <td>EOS</td>\n",
       "      <td>EOS</td>\n",
       "    </tr>\n",
       "    <tr>\n",
       "      <th>8</th>\n",
       "      <td>GNO</td>\n",
       "      <td>Gnosis</td>\n",
       "    </tr>\n",
       "    <tr>\n",
       "      <th>9</th>\n",
       "      <td>ICX</td>\n",
       "      <td>ICON</td>\n",
       "    </tr>\n",
       "    <tr>\n",
       "      <th>10</th>\n",
       "      <td>LINK</td>\n",
       "      <td>Chainlink</td>\n",
       "    </tr>\n",
       "    <tr>\n",
       "      <th>11</th>\n",
       "      <td>LSK</td>\n",
       "      <td>Lisk</td>\n",
       "    </tr>\n",
       "    <tr>\n",
       "      <th>12</th>\n",
       "      <td>OMG</td>\n",
       "      <td>OmiseGO</td>\n",
       "    </tr>\n",
       "    <tr>\n",
       "      <th>13</th>\n",
       "      <td>PAXG</td>\n",
       "      <td>PAX Gold</td>\n",
       "    </tr>\n",
       "    <tr>\n",
       "      <th>14</th>\n",
       "      <td>QTUM</td>\n",
       "      <td>QTUM</td>\n",
       "    </tr>\n",
       "    <tr>\n",
       "      <th>15</th>\n",
       "      <td>SC</td>\n",
       "      <td>Siacoin</td>\n",
       "    </tr>\n",
       "    <tr>\n",
       "      <th>16</th>\n",
       "      <td>TRX</td>\n",
       "      <td>Tron</td>\n",
       "    </tr>\n",
       "    <tr>\n",
       "      <th>17</th>\n",
       "      <td>USDT</td>\n",
       "      <td>Tether</td>\n",
       "    </tr>\n",
       "    <tr>\n",
       "      <th>18</th>\n",
       "      <td>USDC</td>\n",
       "      <td>USD Coin</td>\n",
       "    </tr>\n",
       "    <tr>\n",
       "      <th>20</th>\n",
       "      <td>XETC</td>\n",
       "      <td>Ethereum Classic</td>\n",
       "    </tr>\n",
       "    <tr>\n",
       "      <th>21</th>\n",
       "      <td>XETH</td>\n",
       "      <td>Ethereum</td>\n",
       "    </tr>\n",
       "    <tr>\n",
       "      <th>22</th>\n",
       "      <td>XLTC</td>\n",
       "      <td>Litecoin</td>\n",
       "    </tr>\n",
       "    <tr>\n",
       "      <th>23</th>\n",
       "      <td>XMLN</td>\n",
       "      <td>Watermelon</td>\n",
       "    </tr>\n",
       "    <tr>\n",
       "      <th>24</th>\n",
       "      <td>XREP</td>\n",
       "      <td>Augur</td>\n",
       "    </tr>\n",
       "    <tr>\n",
       "      <th>25</th>\n",
       "      <td>XXBT</td>\n",
       "      <td>Bitcoin</td>\n",
       "    </tr>\n",
       "    <tr>\n",
       "      <th>26</th>\n",
       "      <td>XXDG</td>\n",
       "      <td>Dogecoin</td>\n",
       "    </tr>\n",
       "    <tr>\n",
       "      <th>27</th>\n",
       "      <td>XXLM</td>\n",
       "      <td>Stellar Lumens</td>\n",
       "    </tr>\n",
       "    <tr>\n",
       "      <th>28</th>\n",
       "      <td>XXMR</td>\n",
       "      <td>Monero</td>\n",
       "    </tr>\n",
       "    <tr>\n",
       "      <th>29</th>\n",
       "      <td>XXRP</td>\n",
       "      <td>Ripple</td>\n",
       "    </tr>\n",
       "    <tr>\n",
       "      <th>31</th>\n",
       "      <td>XZEC</td>\n",
       "      <td>Zcash</td>\n",
       "    </tr>\n",
       "    <tr>\n",
       "      <th>33</th>\n",
       "      <td>ZEUR</td>\n",
       "      <td>Euro</td>\n",
       "    </tr>\n",
       "    <tr>\n",
       "      <th>34</th>\n",
       "      <td>ZGBP</td>\n",
       "      <td>Great British Pound</td>\n",
       "    </tr>\n",
       "    <tr>\n",
       "      <th>36</th>\n",
       "      <td>ZUSD</td>\n",
       "      <td>US Dollar</td>\n",
       "    </tr>\n",
       "  </tbody>\n",
       "</table>\n",
       "</div>"
      ],
      "text/plain": [
       "   codes                   name\n",
       "0    ADA                Cardano\n",
       "1   ALGO               Algorand\n",
       "2   ATOM                 Cosmos\n",
       "3    BAT  Basic Attention Token\n",
       "4    BCH           Bitcoin Cash\n",
       "5    DAI                    Dai\n",
       "6   DASH                   DASH\n",
       "7    EOS                    EOS\n",
       "8    GNO                 Gnosis\n",
       "9    ICX                   ICON\n",
       "10  LINK              Chainlink\n",
       "11   LSK                   Lisk\n",
       "12   OMG                OmiseGO\n",
       "13  PAXG               PAX Gold\n",
       "14  QTUM                   QTUM\n",
       "15    SC                Siacoin\n",
       "16   TRX                   Tron\n",
       "17  USDT                 Tether\n",
       "18  USDC               USD Coin\n",
       "20  XETC       Ethereum Classic\n",
       "21  XETH               Ethereum\n",
       "22  XLTC               Litecoin\n",
       "23  XMLN             Watermelon\n",
       "24  XREP                  Augur\n",
       "25  XXBT                Bitcoin\n",
       "26  XXDG               Dogecoin\n",
       "27  XXLM         Stellar Lumens\n",
       "28  XXMR                 Monero\n",
       "29  XXRP                 Ripple\n",
       "31  XZEC                  Zcash\n",
       "33  ZEUR                   Euro\n",
       "34  ZGBP    Great British Pound\n",
       "36  ZUSD              US Dollar"
      ]
     },
     "execution_count": 192,
     "metadata": {},
     "output_type": "execute_result"
    }
   ],
   "source": [
    "asset_names[asset_names.codes.isin(cryptofiat)]"
   ]
  },
  {
   "cell_type": "code",
   "execution_count": 193,
   "metadata": {},
   "outputs": [
    {
     "data": {
      "text/plain": [
       "array(['XETH', 'ZEUR', 'ZUSD', 'XXBT', 'ZGBP', 'USDT', 'CHF', 'DAI',\n",
       "       'USDC', 'ZCAD', 'ZJPY'], dtype=object)"
      ]
     },
     "execution_count": 193,
     "metadata": {},
     "output_type": "execute_result"
    }
   ],
   "source": [
    "allpairs.quote.unique()"
   ]
  },
  {
   "cell_type": "code",
   "execution_count": 194,
   "metadata": {},
   "outputs": [
    {
     "data": {
      "text/html": [
       "<div>\n",
       "<style scoped>\n",
       "    .dataframe tbody tr th:only-of-type {\n",
       "        vertical-align: middle;\n",
       "    }\n",
       "\n",
       "    .dataframe tbody tr th {\n",
       "        vertical-align: top;\n",
       "    }\n",
       "\n",
       "    .dataframe thead th {\n",
       "        text-align: right;\n",
       "    }\n",
       "</style>\n",
       "<table border=\"1\" class=\"dataframe\">\n",
       "  <thead>\n",
       "    <tr style=\"text-align: right;\">\n",
       "      <th></th>\n",
       "      <th>altname</th>\n",
       "      <th>wsname</th>\n",
       "      <th>aclass_base</th>\n",
       "      <th>base</th>\n",
       "      <th>aclass_quote</th>\n",
       "      <th>quote</th>\n",
       "    </tr>\n",
       "  </thead>\n",
       "  <tbody>\n",
       "    <tr>\n",
       "      <th>XBTCHF</th>\n",
       "      <td>XBTCHF</td>\n",
       "      <td>XBT/CHF</td>\n",
       "      <td>currency</td>\n",
       "      <td>XXBT</td>\n",
       "      <td>currency</td>\n",
       "      <td>CHF</td>\n",
       "    </tr>\n",
       "    <tr>\n",
       "      <th>XBTDAI</th>\n",
       "      <td>XBTDAI</td>\n",
       "      <td>XBT/DAI</td>\n",
       "      <td>currency</td>\n",
       "      <td>XXBT</td>\n",
       "      <td>currency</td>\n",
       "      <td>DAI</td>\n",
       "    </tr>\n",
       "    <tr>\n",
       "      <th>XBTUSDC</th>\n",
       "      <td>XBTUSDC</td>\n",
       "      <td>XBT/USDC</td>\n",
       "      <td>currency</td>\n",
       "      <td>XXBT</td>\n",
       "      <td>currency</td>\n",
       "      <td>USDC</td>\n",
       "    </tr>\n",
       "    <tr>\n",
       "      <th>XBTUSDT</th>\n",
       "      <td>XBTUSDT</td>\n",
       "      <td>XBT/USDT</td>\n",
       "      <td>currency</td>\n",
       "      <td>XXBT</td>\n",
       "      <td>currency</td>\n",
       "      <td>USDT</td>\n",
       "    </tr>\n",
       "    <tr>\n",
       "      <th>XXBTZCAD</th>\n",
       "      <td>XBTCAD</td>\n",
       "      <td>XBT/CAD</td>\n",
       "      <td>currency</td>\n",
       "      <td>XXBT</td>\n",
       "      <td>currency</td>\n",
       "      <td>ZCAD</td>\n",
       "    </tr>\n",
       "    <tr>\n",
       "      <th>XXBTZCAD.d</th>\n",
       "      <td>XBTCAD.d</td>\n",
       "      <td>NaN</td>\n",
       "      <td>currency</td>\n",
       "      <td>XXBT</td>\n",
       "      <td>currency</td>\n",
       "      <td>ZCAD</td>\n",
       "    </tr>\n",
       "    <tr>\n",
       "      <th>XXBTZEUR</th>\n",
       "      <td>XBTEUR</td>\n",
       "      <td>XBT/EUR</td>\n",
       "      <td>currency</td>\n",
       "      <td>XXBT</td>\n",
       "      <td>currency</td>\n",
       "      <td>ZEUR</td>\n",
       "    </tr>\n",
       "    <tr>\n",
       "      <th>XXBTZEUR.d</th>\n",
       "      <td>XBTEUR.d</td>\n",
       "      <td>NaN</td>\n",
       "      <td>currency</td>\n",
       "      <td>XXBT</td>\n",
       "      <td>currency</td>\n",
       "      <td>ZEUR</td>\n",
       "    </tr>\n",
       "    <tr>\n",
       "      <th>XXBTZGBP</th>\n",
       "      <td>XBTGBP</td>\n",
       "      <td>XBT/GBP</td>\n",
       "      <td>currency</td>\n",
       "      <td>XXBT</td>\n",
       "      <td>currency</td>\n",
       "      <td>ZGBP</td>\n",
       "    </tr>\n",
       "    <tr>\n",
       "      <th>XXBTZGBP.d</th>\n",
       "      <td>XBTGBP.d</td>\n",
       "      <td>NaN</td>\n",
       "      <td>currency</td>\n",
       "      <td>XXBT</td>\n",
       "      <td>currency</td>\n",
       "      <td>ZGBP</td>\n",
       "    </tr>\n",
       "    <tr>\n",
       "      <th>XXBTZJPY</th>\n",
       "      <td>XBTJPY</td>\n",
       "      <td>XBT/JPY</td>\n",
       "      <td>currency</td>\n",
       "      <td>XXBT</td>\n",
       "      <td>currency</td>\n",
       "      <td>ZJPY</td>\n",
       "    </tr>\n",
       "    <tr>\n",
       "      <th>XXBTZJPY.d</th>\n",
       "      <td>XBTJPY.d</td>\n",
       "      <td>NaN</td>\n",
       "      <td>currency</td>\n",
       "      <td>XXBT</td>\n",
       "      <td>currency</td>\n",
       "      <td>ZJPY</td>\n",
       "    </tr>\n",
       "    <tr>\n",
       "      <th>XXBTZUSD</th>\n",
       "      <td>XBTUSD</td>\n",
       "      <td>XBT/USD</td>\n",
       "      <td>currency</td>\n",
       "      <td>XXBT</td>\n",
       "      <td>currency</td>\n",
       "      <td>ZUSD</td>\n",
       "    </tr>\n",
       "    <tr>\n",
       "      <th>XXBTZUSD.d</th>\n",
       "      <td>XBTUSD.d</td>\n",
       "      <td>NaN</td>\n",
       "      <td>currency</td>\n",
       "      <td>XXBT</td>\n",
       "      <td>currency</td>\n",
       "      <td>ZUSD</td>\n",
       "    </tr>\n",
       "  </tbody>\n",
       "</table>\n",
       "</div>"
      ],
      "text/plain": [
       "             altname    wsname aclass_base  base aclass_quote quote\n",
       "XBTCHF        XBTCHF   XBT/CHF    currency  XXBT     currency   CHF\n",
       "XBTDAI        XBTDAI   XBT/DAI    currency  XXBT     currency   DAI\n",
       "XBTUSDC      XBTUSDC  XBT/USDC    currency  XXBT     currency  USDC\n",
       "XBTUSDT      XBTUSDT  XBT/USDT    currency  XXBT     currency  USDT\n",
       "XXBTZCAD      XBTCAD   XBT/CAD    currency  XXBT     currency  ZCAD\n",
       "XXBTZCAD.d  XBTCAD.d       NaN    currency  XXBT     currency  ZCAD\n",
       "XXBTZEUR      XBTEUR   XBT/EUR    currency  XXBT     currency  ZEUR\n",
       "XXBTZEUR.d  XBTEUR.d       NaN    currency  XXBT     currency  ZEUR\n",
       "XXBTZGBP      XBTGBP   XBT/GBP    currency  XXBT     currency  ZGBP\n",
       "XXBTZGBP.d  XBTGBP.d       NaN    currency  XXBT     currency  ZGBP\n",
       "XXBTZJPY      XBTJPY   XBT/JPY    currency  XXBT     currency  ZJPY\n",
       "XXBTZJPY.d  XBTJPY.d       NaN    currency  XXBT     currency  ZJPY\n",
       "XXBTZUSD      XBTUSD   XBT/USD    currency  XXBT     currency  ZUSD\n",
       "XXBTZUSD.d  XBTUSD.d       NaN    currency  XXBT     currency  ZUSD"
      ]
     },
     "execution_count": 194,
     "metadata": {},
     "output_type": "execute_result"
    }
   ],
   "source": [
    "allpairs[allpairs.base == 'XXBT']"
   ]
  },
  {
   "cell_type": "code",
   "execution_count": null,
   "metadata": {},
   "outputs": [],
   "source": []
  }
 ],
 "metadata": {
  "kernelspec": {
   "display_name": "Python 3",
   "language": "python",
   "name": "python3"
  },
  "language_info": {
   "codemirror_mode": {
    "name": "ipython",
    "version": 3
   },
   "file_extension": ".py",
   "mimetype": "text/x-python",
   "name": "python",
   "nbconvert_exporter": "python",
   "pygments_lexer": "ipython3",
   "version": "3.7.7"
  }
 },
 "nbformat": 4,
 "nbformat_minor": 4
}
